{
  "cells": [
    {
      "cell_type": "markdown",
      "metadata": {
        "id": "view-in-github",
        "colab_type": "text"
      },
      "source": [
        "<a href=\"https://colab.research.google.com/github/jarce2388/-/blob/main/Jorge_Arce_rnn_entregable.ipynb\" target=\"_parent\"><img src=\"https://colab.research.google.com/assets/colab-badge.svg\" alt=\"Open In Colab\"/></a>"
      ]
    },
    {
      "cell_type": "code",
      "execution_count": 5,
      "metadata": {
        "id": "7UeJrJpxUICL"
      },
      "outputs": [],
      "source": [
        "import nltk\n",
        "import pandas as pd\n",
        "import numpy as np\n",
        "pd.options.display.max_colwidth = 200\n",
        "import random\n",
        "import os\n",
        "\n",
        "from sklearn.metrics import accuracy_score, classification_report, confusion_matrix\n",
        "\n",
        "import seaborn as sns\n",
        "import matplotlib.pyplot as plt"
      ]
    },
    {
      "cell_type": "code",
      "execution_count": 7,
      "metadata": {
        "colab": {
          "base_uri": "https://localhost:8080/",
          "height": 275
        },
        "id": "ZcJ6a_17UICN",
        "outputId": "07e95af9-fb30-4f52-b81a-015f7418596f"
      },
      "outputs": [
        {
          "output_type": "execute_result",
          "data": {
            "text/plain": [
              "                                                                                                                                                                                                      text  \\\n",
              "0                                                                                       television Nevir\\n\\nNada bueno se me fue ka pantalla en menos de 8 meses y no he recibido respuesta del fabricante   \n",
              "1                Dinero tirado a la basura con esta compra\\n\\nHorrible, nos tuvimos que comprar otro porque ni nosotros que sabemos inglés, ni un informático, después de una hora fue capaz de instalarlo   \n",
              "2                           solo llega una unidad cuando te obligan a comprar dos\\n\\nTe obligan a comprar dos unidades y te llega solo una y no hay forma de reclamar, una autentica estafa, no compreis!!   \n",
              "3  PRODUCTO NO RECIBIDO.\\n\\nNo entro en descalificar al vendedor, solo puedo decir que tras dos meses de espera.... sigo sin el producto y tuve que contactar con Amazon para reclamar su reembolso. Am...   \n",
              "4                                                                                                                                                         Devuelto\\n\\nLlega tarde y co la talla equivocada   \n",
              "\n",
              "   stars  \n",
              "0      1  \n",
              "1      1  \n",
              "2      1  \n",
              "3      1  \n",
              "4      1  "
            ],
            "text/html": [
              "\n",
              "  <div id=\"df-0936ba62-9de1-41cb-bfb4-41ffca7e2684\" class=\"colab-df-container\">\n",
              "    <div>\n",
              "<style scoped>\n",
              "    .dataframe tbody tr th:only-of-type {\n",
              "        vertical-align: middle;\n",
              "    }\n",
              "\n",
              "    .dataframe tbody tr th {\n",
              "        vertical-align: top;\n",
              "    }\n",
              "\n",
              "    .dataframe thead th {\n",
              "        text-align: right;\n",
              "    }\n",
              "</style>\n",
              "<table border=\"1\" class=\"dataframe\">\n",
              "  <thead>\n",
              "    <tr style=\"text-align: right;\">\n",
              "      <th></th>\n",
              "      <th>text</th>\n",
              "      <th>stars</th>\n",
              "    </tr>\n",
              "  </thead>\n",
              "  <tbody>\n",
              "    <tr>\n",
              "      <th>0</th>\n",
              "      <td>television Nevir\\n\\nNada bueno se me fue ka pantalla en menos de 8 meses y no he recibido respuesta del fabricante</td>\n",
              "      <td>1</td>\n",
              "    </tr>\n",
              "    <tr>\n",
              "      <th>1</th>\n",
              "      <td>Dinero tirado a la basura con esta compra\\n\\nHorrible, nos tuvimos que comprar otro porque ni nosotros que sabemos inglés, ni un informático, después de una hora fue capaz de instalarlo</td>\n",
              "      <td>1</td>\n",
              "    </tr>\n",
              "    <tr>\n",
              "      <th>2</th>\n",
              "      <td>solo llega una unidad cuando te obligan a comprar dos\\n\\nTe obligan a comprar dos unidades y te llega solo una y no hay forma de reclamar, una autentica estafa, no compreis!!</td>\n",
              "      <td>1</td>\n",
              "    </tr>\n",
              "    <tr>\n",
              "      <th>3</th>\n",
              "      <td>PRODUCTO NO RECIBIDO.\\n\\nNo entro en descalificar al vendedor, solo puedo decir que tras dos meses de espera.... sigo sin el producto y tuve que contactar con Amazon para reclamar su reembolso. Am...</td>\n",
              "      <td>1</td>\n",
              "    </tr>\n",
              "    <tr>\n",
              "      <th>4</th>\n",
              "      <td>Devuelto\\n\\nLlega tarde y co la talla equivocada</td>\n",
              "      <td>1</td>\n",
              "    </tr>\n",
              "  </tbody>\n",
              "</table>\n",
              "</div>\n",
              "    <div class=\"colab-df-buttons\">\n",
              "\n",
              "  <div class=\"colab-df-container\">\n",
              "    <button class=\"colab-df-convert\" onclick=\"convertToInteractive('df-0936ba62-9de1-41cb-bfb4-41ffca7e2684')\"\n",
              "            title=\"Convert this dataframe to an interactive table.\"\n",
              "            style=\"display:none;\">\n",
              "\n",
              "  <svg xmlns=\"http://www.w3.org/2000/svg\" height=\"24px\" viewBox=\"0 -960 960 960\">\n",
              "    <path d=\"M120-120v-720h720v720H120Zm60-500h600v-160H180v160Zm220 220h160v-160H400v160Zm0 220h160v-160H400v160ZM180-400h160v-160H180v160Zm440 0h160v-160H620v160ZM180-180h160v-160H180v160Zm440 0h160v-160H620v160Z\"/>\n",
              "  </svg>\n",
              "    </button>\n",
              "\n",
              "  <style>\n",
              "    .colab-df-container {\n",
              "      display:flex;\n",
              "      gap: 12px;\n",
              "    }\n",
              "\n",
              "    .colab-df-convert {\n",
              "      background-color: #E8F0FE;\n",
              "      border: none;\n",
              "      border-radius: 50%;\n",
              "      cursor: pointer;\n",
              "      display: none;\n",
              "      fill: #1967D2;\n",
              "      height: 32px;\n",
              "      padding: 0 0 0 0;\n",
              "      width: 32px;\n",
              "    }\n",
              "\n",
              "    .colab-df-convert:hover {\n",
              "      background-color: #E2EBFA;\n",
              "      box-shadow: 0px 1px 2px rgba(60, 64, 67, 0.3), 0px 1px 3px 1px rgba(60, 64, 67, 0.15);\n",
              "      fill: #174EA6;\n",
              "    }\n",
              "\n",
              "    .colab-df-buttons div {\n",
              "      margin-bottom: 4px;\n",
              "    }\n",
              "\n",
              "    [theme=dark] .colab-df-convert {\n",
              "      background-color: #3B4455;\n",
              "      fill: #D2E3FC;\n",
              "    }\n",
              "\n",
              "    [theme=dark] .colab-df-convert:hover {\n",
              "      background-color: #434B5C;\n",
              "      box-shadow: 0px 1px 3px 1px rgba(0, 0, 0, 0.15);\n",
              "      filter: drop-shadow(0px 1px 2px rgba(0, 0, 0, 0.3));\n",
              "      fill: #FFFFFF;\n",
              "    }\n",
              "  </style>\n",
              "\n",
              "    <script>\n",
              "      const buttonEl =\n",
              "        document.querySelector('#df-0936ba62-9de1-41cb-bfb4-41ffca7e2684 button.colab-df-convert');\n",
              "      buttonEl.style.display =\n",
              "        google.colab.kernel.accessAllowed ? 'block' : 'none';\n",
              "\n",
              "      async function convertToInteractive(key) {\n",
              "        const element = document.querySelector('#df-0936ba62-9de1-41cb-bfb4-41ffca7e2684');\n",
              "        const dataTable =\n",
              "          await google.colab.kernel.invokeFunction('convertToInteractive',\n",
              "                                                    [key], {});\n",
              "        if (!dataTable) return;\n",
              "\n",
              "        const docLinkHtml = 'Like what you see? Visit the ' +\n",
              "          '<a target=\"_blank\" href=https://colab.research.google.com/notebooks/data_table.ipynb>data table notebook</a>'\n",
              "          + ' to learn more about interactive tables.';\n",
              "        element.innerHTML = '';\n",
              "        dataTable['output_type'] = 'display_data';\n",
              "        await google.colab.output.renderOutput(dataTable, element);\n",
              "        const docLink = document.createElement('div');\n",
              "        docLink.innerHTML = docLinkHtml;\n",
              "        element.appendChild(docLink);\n",
              "      }\n",
              "    </script>\n",
              "  </div>\n",
              "\n",
              "\n",
              "<div id=\"df-ae4173be-ad3a-403a-a1c2-7a77196d97c5\">\n",
              "  <button class=\"colab-df-quickchart\" onclick=\"quickchart('df-ae4173be-ad3a-403a-a1c2-7a77196d97c5')\"\n",
              "            title=\"Suggest charts\"\n",
              "            style=\"display:none;\">\n",
              "\n",
              "<svg xmlns=\"http://www.w3.org/2000/svg\" height=\"24px\"viewBox=\"0 0 24 24\"\n",
              "     width=\"24px\">\n",
              "    <g>\n",
              "        <path d=\"M19 3H5c-1.1 0-2 .9-2 2v14c0 1.1.9 2 2 2h14c1.1 0 2-.9 2-2V5c0-1.1-.9-2-2-2zM9 17H7v-7h2v7zm4 0h-2V7h2v10zm4 0h-2v-4h2v4z\"/>\n",
              "    </g>\n",
              "</svg>\n",
              "  </button>\n",
              "\n",
              "<style>\n",
              "  .colab-df-quickchart {\n",
              "      --bg-color: #E8F0FE;\n",
              "      --fill-color: #1967D2;\n",
              "      --hover-bg-color: #E2EBFA;\n",
              "      --hover-fill-color: #174EA6;\n",
              "      --disabled-fill-color: #AAA;\n",
              "      --disabled-bg-color: #DDD;\n",
              "  }\n",
              "\n",
              "  [theme=dark] .colab-df-quickchart {\n",
              "      --bg-color: #3B4455;\n",
              "      --fill-color: #D2E3FC;\n",
              "      --hover-bg-color: #434B5C;\n",
              "      --hover-fill-color: #FFFFFF;\n",
              "      --disabled-bg-color: #3B4455;\n",
              "      --disabled-fill-color: #666;\n",
              "  }\n",
              "\n",
              "  .colab-df-quickchart {\n",
              "    background-color: var(--bg-color);\n",
              "    border: none;\n",
              "    border-radius: 50%;\n",
              "    cursor: pointer;\n",
              "    display: none;\n",
              "    fill: var(--fill-color);\n",
              "    height: 32px;\n",
              "    padding: 0;\n",
              "    width: 32px;\n",
              "  }\n",
              "\n",
              "  .colab-df-quickchart:hover {\n",
              "    background-color: var(--hover-bg-color);\n",
              "    box-shadow: 0 1px 2px rgba(60, 64, 67, 0.3), 0 1px 3px 1px rgba(60, 64, 67, 0.15);\n",
              "    fill: var(--button-hover-fill-color);\n",
              "  }\n",
              "\n",
              "  .colab-df-quickchart-complete:disabled,\n",
              "  .colab-df-quickchart-complete:disabled:hover {\n",
              "    background-color: var(--disabled-bg-color);\n",
              "    fill: var(--disabled-fill-color);\n",
              "    box-shadow: none;\n",
              "  }\n",
              "\n",
              "  .colab-df-spinner {\n",
              "    border: 2px solid var(--fill-color);\n",
              "    border-color: transparent;\n",
              "    border-bottom-color: var(--fill-color);\n",
              "    animation:\n",
              "      spin 1s steps(1) infinite;\n",
              "  }\n",
              "\n",
              "  @keyframes spin {\n",
              "    0% {\n",
              "      border-color: transparent;\n",
              "      border-bottom-color: var(--fill-color);\n",
              "      border-left-color: var(--fill-color);\n",
              "    }\n",
              "    20% {\n",
              "      border-color: transparent;\n",
              "      border-left-color: var(--fill-color);\n",
              "      border-top-color: var(--fill-color);\n",
              "    }\n",
              "    30% {\n",
              "      border-color: transparent;\n",
              "      border-left-color: var(--fill-color);\n",
              "      border-top-color: var(--fill-color);\n",
              "      border-right-color: var(--fill-color);\n",
              "    }\n",
              "    40% {\n",
              "      border-color: transparent;\n",
              "      border-right-color: var(--fill-color);\n",
              "      border-top-color: var(--fill-color);\n",
              "    }\n",
              "    60% {\n",
              "      border-color: transparent;\n",
              "      border-right-color: var(--fill-color);\n",
              "    }\n",
              "    80% {\n",
              "      border-color: transparent;\n",
              "      border-right-color: var(--fill-color);\n",
              "      border-bottom-color: var(--fill-color);\n",
              "    }\n",
              "    90% {\n",
              "      border-color: transparent;\n",
              "      border-bottom-color: var(--fill-color);\n",
              "    }\n",
              "  }\n",
              "</style>\n",
              "\n",
              "  <script>\n",
              "    async function quickchart(key) {\n",
              "      const quickchartButtonEl =\n",
              "        document.querySelector('#' + key + ' button');\n",
              "      quickchartButtonEl.disabled = true;  // To prevent multiple clicks.\n",
              "      quickchartButtonEl.classList.add('colab-df-spinner');\n",
              "      try {\n",
              "        const charts = await google.colab.kernel.invokeFunction(\n",
              "            'suggestCharts', [key], {});\n",
              "      } catch (error) {\n",
              "        console.error('Error during call to suggestCharts:', error);\n",
              "      }\n",
              "      quickchartButtonEl.classList.remove('colab-df-spinner');\n",
              "      quickchartButtonEl.classList.add('colab-df-quickchart-complete');\n",
              "    }\n",
              "    (() => {\n",
              "      let quickchartButtonEl =\n",
              "        document.querySelector('#df-ae4173be-ad3a-403a-a1c2-7a77196d97c5 button');\n",
              "      quickchartButtonEl.style.display =\n",
              "        google.colab.kernel.accessAllowed ? 'block' : 'none';\n",
              "    })();\n",
              "  </script>\n",
              "</div>\n",
              "\n",
              "    </div>\n",
              "  </div>\n"
            ],
            "application/vnd.google.colaboratory.intrinsic+json": {
              "type": "dataframe",
              "variable_name": "df"
            }
          },
          "metadata": {},
          "execution_count": 7
        }
      ],
      "source": [
        "df = pd.read_csv('amazon_reviews_es.csv')\n",
        "df.head()"
      ]
    },
    {
      "cell_type": "code",
      "execution_count": null,
      "metadata": {
        "id": "uoDeqqfUUICO"
      },
      "outputs": [],
      "source": [
        "import nltk\n",
        "nltk.download('punkt')\n",
        "from nltk import word_tokenize"
      ]
    },
    {
      "cell_type": "code",
      "execution_count": null,
      "metadata": {
        "id": "eTdVhH7OUICO"
      },
      "outputs": [],
      "source": [
        "nltk.download('punkt_tab')\n",
        "nltk.download('averaged_perceptron_tagger_eng')\n",
        "nltk.download('tagsets')"
      ]
    },
    {
      "cell_type": "code",
      "execution_count": null,
      "metadata": {
        "id": "jI6SQCL2UICO"
      },
      "outputs": [],
      "source": [
        "from nltk.corpus import stopwords\n",
        "from nltk.tokenize import word_tokenize\n",
        "from nltk.stem import WordNetLemmatizer\n",
        "nltk.download('punkt')\n",
        "nltk.download('stopwords')\n",
        "nltk.download('wordnet')\n",
        "import string\n",
        "\n",
        "spanish_stopwords = stopwords.words(\"spanish\")\n",
        "lemmatizer = WordNetLemmatizer()"
      ]
    },
    {
      "cell_type": "code",
      "execution_count": null,
      "metadata": {
        "id": "pOeu0OI8UICP"
      },
      "outputs": [],
      "source": [
        "len(spanish_stopwords)"
      ]
    },
    {
      "cell_type": "code",
      "execution_count": null,
      "metadata": {
        "id": "IQReMwlwUICP"
      },
      "outputs": [],
      "source": [
        "def preprocess_text(text):\n",
        "    text = text.lower()\n",
        "    tokens = word_tokenize(text)\n",
        "    tokens = [w for w in tokens if w not in spanish_stopwords]\n",
        "    tokens = [w for w in tokens if len(w) >= 3]\n",
        "    tokens = [w if w.isalpha() else 'NO-WORD' for w in tokens]\n",
        "    tokens = [lemmatizer.lemmatize(w) for w in tokens]\n",
        "    return tokens"
      ]
    },
    {
      "cell_type": "code",
      "execution_count": null,
      "metadata": {
        "id": "noS51LfUUICP"
      },
      "outputs": [],
      "source": [
        "df['text_cleaned'] = df['text'].apply(preprocess_text)"
      ]
    },
    {
      "cell_type": "code",
      "execution_count": null,
      "metadata": {
        "id": "CGuGS4ieUICP"
      },
      "outputs": [],
      "source": [
        "df.head()"
      ]
    },
    {
      "cell_type": "code",
      "execution_count": null,
      "metadata": {
        "id": "KgVFMwF9UICP"
      },
      "outputs": [],
      "source": [
        "from sklearn.model_selection import train_test_split\n",
        "df_train, df_test = train_test_split(df, test_size=0.2, random_state=42)"
      ]
    },
    {
      "cell_type": "code",
      "execution_count": null,
      "metadata": {
        "id": "luQgHdCNUICP"
      },
      "outputs": [],
      "source": [
        "from sklearn.feature_extraction.text import TfidfVectorizer\n",
        "\n",
        "tfidf = TfidfVectorizer(\n",
        "    stop_words=spanish_stopwords,\n",
        "    # max_features=10000,      # Limita a 10k palabras más relevantes\n",
        "    # min_df=5,                 # Solo palabras que aparezcan en al menos 5 reseñas\n",
        "    # ngram_range=(1, 2)        # Usa unigramas y bigramas\n",
        ")"
      ]
    },
    {
      "cell_type": "code",
      "execution_count": null,
      "metadata": {
        "id": "2KEFJzKtUICP"
      },
      "outputs": [],
      "source": [
        "train_tfidf = tfidf.fit_transform(df_train['text'])\n",
        "test_tfidf = tfidf.transform(df_test['text'])"
      ]
    },
    {
      "cell_type": "code",
      "execution_count": null,
      "metadata": {
        "id": "LLUBYTvbUICP"
      },
      "outputs": [],
      "source": [
        "vocabulario = np.array(tfidf.get_feature_names_out())\n",
        "vocabulario"
      ]
    },
    {
      "cell_type": "markdown",
      "source": [
        "#### 1. MODELOS CLASICOS"
      ],
      "metadata": {
        "id": "671Dp8AUiPpR"
      }
    },
    {
      "cell_type": "markdown",
      "metadata": {
        "id": "nziaS3AaUICQ"
      },
      "source": [
        "SVM (Lineal)"
      ]
    },
    {
      "cell_type": "code",
      "execution_count": null,
      "metadata": {
        "id": "ATkXCMnpUICQ"
      },
      "outputs": [],
      "source": [
        "from sklearn.svm import SVC, LinearSVC\n",
        "# svc = SVC()\n",
        "model_svc = LinearSVC()\n",
        "model_svc.fit(train_tfidf, y=df_train['stars'])"
      ]
    },
    {
      "cell_type": "code",
      "execution_count": null,
      "metadata": {
        "id": "lDM1rSTjUICQ"
      },
      "outputs": [],
      "source": [
        "df_train['stars_PRED'] = model_svc.predict(train_tfidf)\n",
        "df_test['stars_PRED'] = model_svc.predict(test_tfidf)\n",
        "\n",
        "accuracy_train = accuracy_score(df_train['stars'], df_train['stars_PRED'])\n",
        "accuracy_test = accuracy_score(df_test['stars'], df_test['stars_PRED'])\n",
        "\n",
        "print(f\"<<< TRAIN: {accuracy_train}, TEST: {accuracy_test} >>>\")\n",
        "print(classification_report(df_train['stars'], df_train['stars_PRED']))\n",
        "print(classification_report(df_test['stars'], df_test['stars_PRED']))"
      ]
    },
    {
      "cell_type": "markdown",
      "metadata": {
        "id": "SHg6acwbUICR"
      },
      "source": [
        "R: El modelo SVM no es óptimo para este tipo de problemática, además que demora más de 1 Hora en entrenar."
      ]
    },
    {
      "cell_type": "markdown",
      "metadata": {
        "id": "fh59TD4qUICR"
      },
      "source": [
        "REGRESIÓN LOGÍSTICA"
      ]
    },
    {
      "cell_type": "code",
      "execution_count": null,
      "metadata": {
        "id": "j_fSjKcMUICR"
      },
      "outputs": [],
      "source": [
        "from sklearn.linear_model import LogisticRegression\n",
        "model_lr = LogisticRegression( solver='saga', n_jobs=-1)"
      ]
    },
    {
      "cell_type": "code",
      "execution_count": null,
      "metadata": {
        "id": "66g9v13BUICR"
      },
      "outputs": [],
      "source": [
        "model_lr.fit(train_tfidf, y=df_train['stars'])"
      ]
    },
    {
      "cell_type": "code",
      "execution_count": null,
      "metadata": {
        "id": "3n4r7CRYUICR"
      },
      "outputs": [],
      "source": [
        "df_test['stars_PRED'] = model_lr.predict(test_tfidf)\n",
        "df_train['stars_PRED'] = model_lr.predict(train_tfidf)"
      ]
    },
    {
      "cell_type": "code",
      "execution_count": null,
      "metadata": {
        "id": "pVn2moqjUICR"
      },
      "outputs": [],
      "source": [
        "coeficientes = model_lr.coef_[0]\n",
        "coeficientes"
      ]
    },
    {
      "cell_type": "code",
      "execution_count": null,
      "metadata": {
        "id": "ePfn16G0UICR"
      },
      "outputs": [],
      "source": [
        "top_indices = np.argsort(coeficientes)[15:]  # Top 5 términos más relevantes\n",
        "print(\"Palabras más influyentes en la clasificación:\")\n",
        "print(vocabulario[top_indices], coeficientes[top_indices])"
      ]
    },
    {
      "cell_type": "code",
      "execution_count": null,
      "metadata": {
        "id": "wyUPIhaLUICR"
      },
      "outputs": [],
      "source": [
        "df_test.sample(5)"
      ]
    },
    {
      "cell_type": "code",
      "execution_count": null,
      "metadata": {
        "id": "e3Im9vPrUICR"
      },
      "outputs": [],
      "source": [
        "df_train['stars'].value_counts(normalize=True)"
      ]
    },
    {
      "cell_type": "code",
      "execution_count": null,
      "metadata": {
        "id": "UqnJbHF2UICR"
      },
      "outputs": [],
      "source": [
        "accuracy_train = accuracy_score(df_train['stars'], df_train['stars_PRED'])\n",
        "accuracy_train"
      ]
    },
    {
      "cell_type": "code",
      "execution_count": null,
      "metadata": {
        "id": "9iD12DvlUICS"
      },
      "outputs": [],
      "source": [
        "print(classification_report(df_train['stars'], df_train['stars_PRED']))"
      ]
    },
    {
      "cell_type": "code",
      "execution_count": null,
      "metadata": {
        "id": "2eZvQX0SUICS"
      },
      "outputs": [],
      "source": [
        "accuracy_train = accuracy_score(df_test['stars'], df_test['stars_PRED'])\n",
        "accuracy_train"
      ]
    },
    {
      "cell_type": "code",
      "execution_count": null,
      "metadata": {
        "id": "1qkDj6rrUICS"
      },
      "outputs": [],
      "source": [
        "print(classification_report(df_test['stars'], df_test['stars_PRED']))"
      ]
    },
    {
      "cell_type": "markdown",
      "metadata": {
        "id": "JW_fUH63UICS"
      },
      "source": [
        "#### Naive Bayes"
      ]
    },
    {
      "cell_type": "code",
      "execution_count": null,
      "metadata": {
        "id": "sSXUIzF5UICS"
      },
      "outputs": [],
      "source": [
        "from sklearn.naive_bayes import MultinomialNB\n",
        "\n",
        "model_nb = MultinomialNB()\n",
        "model_nb.fit(train_tfidf, y=df_train['stars'])"
      ]
    },
    {
      "cell_type": "code",
      "execution_count": null,
      "metadata": {
        "id": "jfR5lyyBUICS"
      },
      "outputs": [],
      "source": [
        "df_train['stars_PRED'] = model_nb.predict(train_tfidf)\n",
        "df_test['stars_PRED'] = model_nb.predict(test_tfidf)\n",
        "\n",
        "accuracy_train = accuracy_score(df_train['stars'], df_train['stars_PRED'])\n",
        "accuracy_test = accuracy_score(df_test['stars'], df_test['stars_PRED'])\n",
        "\n",
        "print(f\"<<< TRAIN: {accuracy_train}, TEST: {accuracy_test} >>>\")\n",
        "print(classification_report(df_train['stars'], df_train['stars_PRED']))\n",
        "print(classification_report(df_test['stars'], df_test['stars_PRED']))"
      ]
    },
    {
      "cell_type": "code",
      "execution_count": null,
      "metadata": {
        "id": "MCt3I4fwUICS"
      },
      "outputs": [],
      "source": [
        "from xgboost import XGBClassifier\n",
        "\n",
        "model_xgb = XGBClassifier( objective=\"multi:softmax\", num_class=5, n_jobs=-1)\n",
        "model_xgb.fit(train_tfidf, y=df_train['stars']-1)"
      ]
    },
    {
      "cell_type": "code",
      "execution_count": null,
      "metadata": {
        "id": "mTlf8d0nUICS"
      },
      "outputs": [],
      "source": [
        "df_train['stars_PRED'] = model_xgb.predict(train_tfidf)\n",
        "df_test['stars_PRED'] = model_xgb.predict(test_tfidf)\n",
        "\n",
        "accuracy_train = accuracy_score(df_train['stars']-1, df_train['stars_PRED'])\n",
        "accuracy_test = accuracy_score(df_test['stars']-1, df_test['stars_PRED'])\n",
        "\n",
        "print(f\"<<< TRAIN: {accuracy_train}, TEST: {accuracy_test} >>>\")\n",
        "print(classification_report(df_train['stars']-1, df_train['stars_PRED']))\n",
        "print(classification_report(df_test['stars']-1, df_test['stars_PRED']))"
      ]
    },
    {
      "cell_type": "markdown",
      "metadata": {
        "id": "lf9W1n_SUICT"
      },
      "source": [
        "RANDOM FOREST"
      ]
    },
    {
      "cell_type": "code",
      "execution_count": null,
      "metadata": {
        "id": "V-yQjGH6UICT"
      },
      "outputs": [],
      "source": [
        "from sklearn.ensemble import RandomForestClassifier\n",
        "\n",
        "model_rf = RandomForestClassifier(\n",
        "    n_estimators=100,  # Número de árboles\n",
        "    max_depth=15,      # Profundidad máxima para evitar sobreajuste\n",
        "    n_jobs=-1,         # Usa todos los núcleos disponibles\n",
        "    random_state=42\n",
        ")\n",
        "\n",
        "model_rf.fit(train_tfidf, df_train[\"stars\"])\n",
        "df_train['stars_PRED'] = model_rf.predict(train_tfidf)\n",
        "df_test['stars_PRED'] = model_rf.predict(test_tfidf)\n"
      ]
    },
    {
      "cell_type": "code",
      "execution_count": null,
      "metadata": {
        "id": "HoUUso0tUICT"
      },
      "outputs": [],
      "source": [
        "df_train['stars_PRED'] = model_rf.predict(train_tfidf)\n",
        "df_test['stars_PRED'] = model_rf.predict(test_tfidf)\n",
        "\n",
        "accuracy_train = accuracy_score(df_train['stars'], df_train['stars_PRED'])\n",
        "accuracy_test = accuracy_score(df_test['stars'], df_test['stars_PRED'])\n",
        "\n",
        "print(f\"<<< TRAIN: {accuracy_train}, TEST: {accuracy_test} >>>\")\n",
        "print(classification_report(df_train['stars'], df_train['stars_PRED']))\n",
        "print(classification_report(df_test['stars'], df_test['stars_PRED']))"
      ]
    },
    {
      "cell_type": "markdown",
      "metadata": {
        "id": "JDqfjpMWUICT"
      },
      "source": [
        "####  LightGBM (LGBMClassifier)"
      ]
    },
    {
      "cell_type": "code",
      "execution_count": null,
      "metadata": {
        "id": "VbMLGhmPUICT"
      },
      "outputs": [],
      "source": [
        "from lightgbm import LGBMClassifier\n",
        "\n",
        "model_lgbm = LGBMClassifier(\n",
        "    boosting_type=\"gbdt\",\n",
        "    objective=\"multiclass\",\n",
        "    num_class=5,  # 5 clases\n",
        "    n_estimators=200,\n",
        "    max_depth=-1,  # Sin límite de profundidad\n",
        "    n_jobs=-1\n",
        ")\n",
        "\n",
        "model_lgbm.fit(train_tfidf, df_train[\"stars\"])\n"
      ]
    },
    {
      "cell_type": "code",
      "execution_count": null,
      "metadata": {
        "id": "Jr7xHizmUICY"
      },
      "outputs": [],
      "source": [
        "df_train['stars_PRED'] = model_lgbm.predict(train_tfidf)\n",
        "df_test['stars_PRED'] = model_lgbm.predict(test_tfidf)\n",
        "\n",
        "accuracy_train = accuracy_score(df_train['stars'], df_train['stars_PRED'])\n",
        "accuracy_test = accuracy_score(df_test['stars'], df_test['stars_PRED'])\n",
        "\n",
        "print(f\"<<< TRAIN: {accuracy_train}, TEST: {accuracy_test} >>>\")\n",
        "print(classification_report(df_train['stars'], df_train['stars_PRED']))\n",
        "print(classification_report(df_test['stars'], df_test['stars_PRED']))"
      ]
    },
    {
      "cell_type": "markdown",
      "source": [
        "### 2. FINE TUNING CON TRANSFORMERS"
      ],
      "metadata": {
        "id": "eeYteWDsh_WN"
      }
    },
    {
      "cell_type": "code",
      "execution_count": null,
      "metadata": {
        "id": "4ac1Pv9eUICY"
      },
      "outputs": [],
      "source": [
        "from transformers import pipeline\n",
        "\n",
        "from transformers import AutoTokenizer, TFAutoModelForSequenceClassification, TFAutoModel, DataCollatorWithPadding\n",
        "import tensorflow as tf\n",
        "\n",
        "import json\n",
        "from datasets import load_dataset\n",
        "import random\n",
        "import pandas as pd\n",
        "import numpy as np\n",
        "\n",
        "from transformers import AutoTokenizer, TFAutoModelForSequenceClassification, TFAutoModel\n",
        "import tensorflow as tf"
      ]
    },
    {
      "cell_type": "code",
      "execution_count": null,
      "metadata": {
        "id": "Pw_5hUVuUICY"
      },
      "outputs": [],
      "source": [
        "# cm = confusion_matrix(df_train['stars']-1, df_train['stars_PRED'])\n",
        "# sns.heatmap(cm, annot=True, fmt=\"d\", cmap=\"Blues\")\n",
        "# plt.xlabel(\"Predicción\")\n",
        "# plt.ylabel(\"Real\")\n",
        "# plt.title(\"Matriz de Confusión - XGBoost\")\n",
        "# plt.show()"
      ]
    },
    {
      "cell_type": "markdown",
      "metadata": {
        "id": "QQUbMqq8UICZ"
      },
      "source": []
    }
  ],
  "metadata": {
    "kernelspec": {
      "display_name": "Python 3",
      "name": "python3"
    },
    "language_info": {
      "codemirror_mode": {
        "name": "ipython",
        "version": 3
      },
      "file_extension": ".py",
      "mimetype": "text/x-python",
      "name": "python",
      "nbconvert_exporter": "python",
      "pygments_lexer": "ipython3",
      "version": "3.11.9"
    },
    "orig_nbformat": 4,
    "colab": {
      "provenance": [],
      "gpuType": "V28",
      "include_colab_link": true
    },
    "accelerator": "TPU"
  },
  "nbformat": 4,
  "nbformat_minor": 0
}